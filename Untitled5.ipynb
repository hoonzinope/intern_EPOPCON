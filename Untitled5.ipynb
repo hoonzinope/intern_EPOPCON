{
 "cells": [
  {
   "cell_type": "code",
   "execution_count": 1,
   "metadata": {},
   "outputs": [],
   "source": [
    "from selenium import webdriver\n",
    "import selenium"
   ]
  },
  {
   "cell_type": "code",
   "execution_count": 2,
   "metadata": {},
   "outputs": [],
   "source": [
    "path = 'C:\\chromedriver.exe'"
   ]
  },
  {
   "cell_type": "code",
   "execution_count": 3,
   "metadata": {},
   "outputs": [],
   "source": [
    "driver = webdriver.Chrome(path)"
   ]
  },
  {
   "cell_type": "code",
   "execution_count": 41,
   "metadata": {},
   "outputs": [],
   "source": [
    "driver.get('http://www.localdata.kr/portal/data/searchName.do?menuNo=200015')"
   ]
  },
  {
   "cell_type": "code",
   "execution_count": 42,
   "metadata": {},
   "outputs": [],
   "source": [
    "elem = selenium.webdriver.support.select.Select(driver.find_element_by_name('codeId'))"
   ]
  },
  {
   "cell_type": "code",
   "execution_count": 43,
   "metadata": {},
   "outputs": [],
   "source": [
    "elem.select_by_visible_text('경기도')"
   ]
  },
  {
   "cell_type": "code",
   "execution_count": 57,
   "metadata": {},
   "outputs": [],
   "source": [
    "elem2 = selenium.webdriver.support.select.Select(driver.find_element_by_name('detailCodeId'))"
   ]
  },
  {
   "cell_type": "code",
   "execution_count": 58,
   "metadata": {},
   "outputs": [],
   "source": [
    "elem2.select_by_visible_text('수원시')"
   ]
  },
  {
   "cell_type": "code",
   "execution_count": 59,
   "metadata": {},
   "outputs": [],
   "source": [
    "input = driver.find_element_by_name('srhKeyword')"
   ]
  },
  {
   "cell_type": "code",
   "execution_count": 60,
   "metadata": {},
   "outputs": [],
   "source": [
    "input.clear()\n",
    "input.send_keys('바다회집')"
   ]
  },
  {
   "cell_type": "code",
   "execution_count": 61,
   "metadata": {},
   "outputs": [],
   "source": [
    "input.submit()"
   ]
  },
  {
   "cell_type": "code",
   "execution_count": 12,
   "metadata": {},
   "outputs": [],
   "source": [
    "from bs4 import BeautifulSoup"
   ]
  },
  {
   "cell_type": "code",
   "execution_count": 62,
   "metadata": {},
   "outputs": [],
   "source": [
    "html = driver.page_source"
   ]
  },
  {
   "cell_type": "code",
   "execution_count": 63,
   "metadata": {},
   "outputs": [],
   "source": [
    "soup = BeautifulSoup(html, 'html.parser')"
   ]
  },
  {
   "cell_type": "code",
   "execution_count": 64,
   "metadata": {},
   "outputs": [
    {
     "data": {
      "text/plain": [
       "['',\n",
       " '',\n",
       " '번호',\n",
       " '데이터명 내림차순',\n",
       " '',\n",
       " '업소명 내림차순',\n",
       " '사업장 주소 내림차순',\n",
       " '신고일 내림차순',\n",
       " '상태 내림차순',\n",
       " '',\n",
       " '']"
      ]
     },
     "execution_count": 64,
     "metadata": {},
     "output_type": "execute_result"
    }
   ],
   "source": [
    "columns = soup.find('thead').get_text().split('\\n')\n",
    "columns"
   ]
  },
  {
   "cell_type": "code",
   "execution_count": 65,
   "metadata": {},
   "outputs": [],
   "source": [
    "columns[3] = columns[3].split(' ')[0]"
   ]
  },
  {
   "cell_type": "code",
   "execution_count": 66,
   "metadata": {},
   "outputs": [],
   "source": [
    "columns[5] = columns[5].split(' ')[0]\n",
    "columns[6] = columns[6].split(' ')[0]\n",
    "columns[7] = columns[7].split(' ')[0]\n",
    "columns[8] = columns[8].split(' ')[0]"
   ]
  },
  {
   "cell_type": "code",
   "execution_count": 67,
   "metadata": {},
   "outputs": [],
   "source": [
    "while True:\n",
    "    try:\n",
    "        columns.remove(\"\")\n",
    "    except ValueError:\n",
    "        break"
   ]
  },
  {
   "cell_type": "code",
   "execution_count": 68,
   "metadata": {},
   "outputs": [
    {
     "data": {
      "text/plain": [
       "['번호', '데이터명', '업소명', '사업장', '신고일', '상태']"
      ]
     },
     "execution_count": 68,
     "metadata": {},
     "output_type": "execute_result"
    }
   ],
   "source": [
    "columns"
   ]
  },
  {
   "cell_type": "code",
   "execution_count": 69,
   "metadata": {},
   "outputs": [],
   "source": [
    "table = soup.find('tbody')\n",
    "rows = table.find_all('tr')"
   ]
  },
  {
   "cell_type": "code",
   "execution_count": 23,
   "metadata": {},
   "outputs": [
    {
     "data": {
      "text/plain": [
       "['',\n",
       " '13198',\n",
       " '쓰레기종량제봉투판매업',\n",
       " '뉴설악모텔',\n",
       " '강원도 속초시 설악동 2 통1  반',\n",
       " '',\n",
       " '',\n",
       " '',\n",
       " '',\n",
       " '운영중',\n",
       " '']"
      ]
     },
     "execution_count": 23,
     "metadata": {},
     "output_type": "execute_result"
    }
   ],
   "source": [
    "r = rows[0].text.split('\\n')\n",
    "for idx in range(0, len(r)):\n",
    "    r[idx] = r[idx].strip()\n",
    "r"
   ]
  },
  {
   "cell_type": "code",
   "execution_count": 24,
   "metadata": {},
   "outputs": [],
   "source": [
    "while True:\n",
    "    try:\n",
    "        r.remove(\"\")\n",
    "    except ValueError:\n",
    "        break"
   ]
  },
  {
   "cell_type": "code",
   "execution_count": 25,
   "metadata": {},
   "outputs": [
    {
     "data": {
      "text/plain": [
       "['13198', '쓰레기종량제봉투판매업', '뉴설악모텔', '강원도 속초시 설악동 2 통1  반', '운영중']"
      ]
     },
     "execution_count": 25,
     "metadata": {},
     "output_type": "execute_result"
    }
   ],
   "source": [
    "r"
   ]
  },
  {
   "cell_type": "code",
   "execution_count": 138,
   "metadata": {},
   "outputs": [
    {
     "data": {
      "text/plain": [
       "10"
      ]
     },
     "execution_count": 138,
     "metadata": {},
     "output_type": "execute_result"
    }
   ],
   "source": [
    "len(rows)"
   ]
  },
  {
   "cell_type": "code",
   "execution_count": 70,
   "metadata": {},
   "outputs": [],
   "source": [
    "import pandas as pd"
   ]
  },
  {
   "cell_type": "code",
   "execution_count": 71,
   "metadata": {},
   "outputs": [
    {
     "data": {
      "text/html": [
       "<div>\n",
       "<style scoped>\n",
       "    .dataframe tbody tr th:only-of-type {\n",
       "        vertical-align: middle;\n",
       "    }\n",
       "\n",
       "    .dataframe tbody tr th {\n",
       "        vertical-align: top;\n",
       "    }\n",
       "\n",
       "    .dataframe thead th {\n",
       "        text-align: right;\n",
       "    }\n",
       "</style>\n",
       "<table border=\"1\" class=\"dataframe\">\n",
       "  <thead>\n",
       "    <tr style=\"text-align: right;\">\n",
       "      <th></th>\n",
       "      <th>번호</th>\n",
       "      <th>데이터명</th>\n",
       "      <th>업소명</th>\n",
       "      <th>사업장</th>\n",
       "      <th>신고일</th>\n",
       "      <th>상태</th>\n",
       "    </tr>\n",
       "  </thead>\n",
       "  <tbody>\n",
       "    <tr>\n",
       "      <th>0</th>\n",
       "      <td>7</td>\n",
       "      <td>일반음식점(기타)</td>\n",
       "      <td>바다회집</td>\n",
       "      <td>경기도 수원시 팔달구 인계동 754-1번지</td>\n",
       "      <td>2000.04.12</td>\n",
       "      <td>폐업 등</td>\n",
       "    </tr>\n",
       "    <tr>\n",
       "      <th>1</th>\n",
       "      <td>6</td>\n",
       "      <td>일반음식점(횟집)</td>\n",
       "      <td>바다회집</td>\n",
       "      <td>경기도 수원시 장안구 조원로 124 (조원동)</td>\n",
       "      <td>1999.11.06</td>\n",
       "      <td>운영중</td>\n",
       "    </tr>\n",
       "    <tr>\n",
       "      <th>2</th>\n",
       "      <td>5</td>\n",
       "      <td>일반음식점(한식)</td>\n",
       "      <td>동해바다회집</td>\n",
       "      <td>경기도 수원시 권선구 금곡동 487번지</td>\n",
       "      <td>1999.09.17</td>\n",
       "      <td>폐업 등</td>\n",
       "    </tr>\n",
       "    <tr>\n",
       "      <th>3</th>\n",
       "      <td>4</td>\n",
       "      <td>일반음식점(한식)</td>\n",
       "      <td>바다회집</td>\n",
       "      <td>경기도 수원시 팔달구 화서동 650번지 화서4단지아파트 가상동 지층5호</td>\n",
       "      <td>1997.12.08</td>\n",
       "      <td>폐업 등</td>\n",
       "    </tr>\n",
       "    <tr>\n",
       "      <th>4</th>\n",
       "      <td>3</td>\n",
       "      <td>일반음식점(기타)</td>\n",
       "      <td>바다회집</td>\n",
       "      <td>경기도 수원시 영통구 하동 653번지</td>\n",
       "      <td>1996.05.17</td>\n",
       "      <td>폐업 등</td>\n",
       "    </tr>\n",
       "    <tr>\n",
       "      <th>5</th>\n",
       "      <td>2</td>\n",
       "      <td>일반음식점(일식)</td>\n",
       "      <td>바다회집</td>\n",
       "      <td>경기도 수원시 권선구 세류동 1090-3번지</td>\n",
       "      <td>1995.08.07</td>\n",
       "      <td>폐업 등</td>\n",
       "    </tr>\n",
       "    <tr>\n",
       "      <th>6</th>\n",
       "      <td>1</td>\n",
       "      <td>일반음식점(일식)</td>\n",
       "      <td>바다회집</td>\n",
       "      <td>경기도 수원시 영통구 매탄동 153-189번지 동수원상가A동6호</td>\n",
       "      <td>1994.03.04</td>\n",
       "      <td>폐업 등</td>\n",
       "    </tr>\n",
       "  </tbody>\n",
       "</table>\n",
       "</div>"
      ],
      "text/plain": [
       "  번호       데이터명     업소명                                      사업장         신고일  \\\n",
       "0  7  일반음식점(기타)    바다회집                  경기도 수원시 팔달구 인계동 754-1번지  2000.04.12   \n",
       "1  6  일반음식점(횟집)    바다회집                경기도 수원시 장안구 조원로 124 (조원동)  1999.11.06   \n",
       "2  5  일반음식점(한식)  동해바다회집                    경기도 수원시 권선구 금곡동 487번지  1999.09.17   \n",
       "3  4  일반음식점(한식)    바다회집  경기도 수원시 팔달구 화서동 650번지 화서4단지아파트 가상동 지층5호  1997.12.08   \n",
       "4  3  일반음식점(기타)    바다회집                     경기도 수원시 영통구 하동 653번지  1996.05.17   \n",
       "5  2  일반음식점(일식)    바다회집                 경기도 수원시 권선구 세류동 1090-3번지  1995.08.07   \n",
       "6  1  일반음식점(일식)    바다회집      경기도 수원시 영통구 매탄동 153-189번지 동수원상가A동6호  1994.03.04   \n",
       "\n",
       "     상태  \n",
       "0  폐업 등  \n",
       "1   운영중  \n",
       "2  폐업 등  \n",
       "3  폐업 등  \n",
       "4  폐업 등  \n",
       "5  폐업 등  \n",
       "6  폐업 등  "
      ]
     },
     "execution_count": 71,
     "metadata": {},
     "output_type": "execute_result"
    }
   ],
   "source": [
    "df1 = []\n",
    "for idx in range(0, len(rows)):\n",
    "    r = rows[idx].text.split('\\n')\n",
    "    for idx in range(0, len(r)):\n",
    "        r[idx] = r[idx].strip()\n",
    "    while True:\n",
    "        try:\n",
    "            r.remove(\"\")\n",
    "        except ValueError:\n",
    "            break\n",
    "    df1.append(r)\n",
    "df1 = pd.DataFrame(df1, columns = columns)\n",
    "df1"
   ]
  },
  {
   "cell_type": "code",
   "execution_count": 72,
   "metadata": {},
   "outputs": [
    {
     "data": {
      "text/html": [
       "<div>\n",
       "<style scoped>\n",
       "    .dataframe tbody tr th:only-of-type {\n",
       "        vertical-align: middle;\n",
       "    }\n",
       "\n",
       "    .dataframe tbody tr th {\n",
       "        vertical-align: top;\n",
       "    }\n",
       "\n",
       "    .dataframe thead th {\n",
       "        text-align: right;\n",
       "    }\n",
       "</style>\n",
       "<table border=\"1\" class=\"dataframe\">\n",
       "  <thead>\n",
       "    <tr style=\"text-align: right;\">\n",
       "      <th></th>\n",
       "      <th>번호</th>\n",
       "      <th>데이터명</th>\n",
       "      <th>업소명</th>\n",
       "      <th>사업장</th>\n",
       "      <th>신고일</th>\n",
       "      <th>상태</th>\n",
       "    </tr>\n",
       "  </thead>\n",
       "  <tbody>\n",
       "    <tr>\n",
       "      <th>0</th>\n",
       "      <td>7</td>\n",
       "      <td>일반음식점(기타)</td>\n",
       "      <td>바다회집</td>\n",
       "      <td>경기도 수원시 팔달구 인계동 754-1번지</td>\n",
       "      <td>2000.04.12</td>\n",
       "      <td>폐업 등</td>\n",
       "    </tr>\n",
       "    <tr>\n",
       "      <th>1</th>\n",
       "      <td>6</td>\n",
       "      <td>일반음식점(횟집)</td>\n",
       "      <td>바다회집</td>\n",
       "      <td>경기도 수원시 장안구 조원로 124 (조원동)</td>\n",
       "      <td>1999.11.06</td>\n",
       "      <td>운영중</td>\n",
       "    </tr>\n",
       "    <tr>\n",
       "      <th>2</th>\n",
       "      <td>5</td>\n",
       "      <td>일반음식점(한식)</td>\n",
       "      <td>동해바다회집</td>\n",
       "      <td>경기도 수원시 권선구 금곡동 487번지</td>\n",
       "      <td>1999.09.17</td>\n",
       "      <td>폐업 등</td>\n",
       "    </tr>\n",
       "    <tr>\n",
       "      <th>3</th>\n",
       "      <td>4</td>\n",
       "      <td>일반음식점(한식)</td>\n",
       "      <td>바다회집</td>\n",
       "      <td>경기도 수원시 팔달구 화서동 650번지 화서4단지아파트 가상동 지층5호</td>\n",
       "      <td>1997.12.08</td>\n",
       "      <td>폐업 등</td>\n",
       "    </tr>\n",
       "    <tr>\n",
       "      <th>4</th>\n",
       "      <td>3</td>\n",
       "      <td>일반음식점(기타)</td>\n",
       "      <td>바다회집</td>\n",
       "      <td>경기도 수원시 영통구 하동 653번지</td>\n",
       "      <td>1996.05.17</td>\n",
       "      <td>폐업 등</td>\n",
       "    </tr>\n",
       "    <tr>\n",
       "      <th>5</th>\n",
       "      <td>2</td>\n",
       "      <td>일반음식점(일식)</td>\n",
       "      <td>바다회집</td>\n",
       "      <td>경기도 수원시 권선구 세류동 1090-3번지</td>\n",
       "      <td>1995.08.07</td>\n",
       "      <td>폐업 등</td>\n",
       "    </tr>\n",
       "    <tr>\n",
       "      <th>6</th>\n",
       "      <td>1</td>\n",
       "      <td>일반음식점(일식)</td>\n",
       "      <td>바다회집</td>\n",
       "      <td>경기도 수원시 영통구 매탄동 153-189번지 동수원상가A동6호</td>\n",
       "      <td>1994.03.04</td>\n",
       "      <td>폐업 등</td>\n",
       "    </tr>\n",
       "  </tbody>\n",
       "</table>\n",
       "</div>"
      ],
      "text/plain": [
       "  번호       데이터명     업소명                                      사업장         신고일  \\\n",
       "0  7  일반음식점(기타)    바다회집                  경기도 수원시 팔달구 인계동 754-1번지  2000.04.12   \n",
       "1  6  일반음식점(횟집)    바다회집                경기도 수원시 장안구 조원로 124 (조원동)  1999.11.06   \n",
       "2  5  일반음식점(한식)  동해바다회집                    경기도 수원시 권선구 금곡동 487번지  1999.09.17   \n",
       "3  4  일반음식점(한식)    바다회집  경기도 수원시 팔달구 화서동 650번지 화서4단지아파트 가상동 지층5호  1997.12.08   \n",
       "4  3  일반음식점(기타)    바다회집                     경기도 수원시 영통구 하동 653번지  1996.05.17   \n",
       "5  2  일반음식점(일식)    바다회집                 경기도 수원시 권선구 세류동 1090-3번지  1995.08.07   \n",
       "6  1  일반음식점(일식)    바다회집      경기도 수원시 영통구 매탄동 153-189번지 동수원상가A동6호  1994.03.04   \n",
       "\n",
       "     상태  \n",
       "0  폐업 등  \n",
       "1   운영중  \n",
       "2  폐업 등  \n",
       "3  폐업 등  \n",
       "4  폐업 등  \n",
       "5  폐업 등  \n",
       "6  폐업 등  "
      ]
     },
     "execution_count": 72,
     "metadata": {},
     "output_type": "execute_result"
    }
   ],
   "source": [
    "df1 = []\n",
    "for row in soup.select('tbody tr'):\n",
    "    row_text = [x.text for x in row.find_all('td')]\n",
    "    for idx in range(0,len(row_text)):\n",
    "        row_text[idx] = row_text[idx].strip()\n",
    "        \n",
    "    df1.append(row_text)\n",
    "df1 = pd.DataFrame(df1, columns = columns)\n",
    "df1"
   ]
  },
  {
   "cell_type": "code",
   "execution_count": null,
   "metadata": {},
   "outputs": [],
   "source": []
  }
 ],
 "metadata": {
  "kernelspec": {
   "display_name": "Python 3",
   "language": "python",
   "name": "python3"
  },
  "language_info": {
   "codemirror_mode": {
    "name": "ipython",
    "version": 3
   },
   "file_extension": ".py",
   "mimetype": "text/x-python",
   "name": "python",
   "nbconvert_exporter": "python",
   "pygments_lexer": "ipython3",
   "version": "3.6.5"
  }
 },
 "nbformat": 4,
 "nbformat_minor": 2
}
