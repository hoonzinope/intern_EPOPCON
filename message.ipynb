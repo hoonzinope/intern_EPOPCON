{
 "cells": [
  {
   "cell_type": "code",
   "execution_count": 2,
   "metadata": {},
   "outputs": [],
   "source": [
    "import requests\n",
    "from bs4 import BeautifulSoup\n",
    "import os\n",
    "import telegram\n",
    "import time"
   ]
  },
  {
   "cell_type": "code",
   "execution_count": 3,
   "metadata": {},
   "outputs": [],
   "source": [
    "req = requests.get('http://gs25.gsretail.com/gscvs/ko/main')"
   ]
  },
  {
   "cell_type": "code",
   "execution_count": 34,
   "metadata": {},
   "outputs": [
    {
     "ename": "AttributeError",
     "evalue": "'list' object has no attribute 'text'",
     "output_type": "error",
     "traceback": [
      "\u001b[1;31m---------------------------------------------------------------------------\u001b[0m",
      "\u001b[1;31mAttributeError\u001b[0m                            Traceback (most recent call last)",
      "\u001b[1;32m<ipython-input-34-4ea3d69cd82e>\u001b[0m in \u001b[0;36m<module>\u001b[1;34m()\u001b[0m\n\u001b[0;32m      1\u001b[0m \u001b[0mhtml\u001b[0m \u001b[1;33m=\u001b[0m \u001b[0mreq\u001b[0m\u001b[1;33m.\u001b[0m\u001b[0mtext\u001b[0m\u001b[1;33m\u001b[0m\u001b[0m\n\u001b[0;32m      2\u001b[0m \u001b[0msoup\u001b[0m \u001b[1;33m=\u001b[0m \u001b[0mBeautifulSoup\u001b[0m\u001b[1;33m(\u001b[0m\u001b[0mhtml\u001b[0m\u001b[1;33m,\u001b[0m \u001b[1;34m'html.parser'\u001b[0m\u001b[1;33m)\u001b[0m\u001b[1;33m\u001b[0m\u001b[0m\n\u001b[1;32m----> 3\u001b[1;33m \u001b[0mtexts\u001b[0m \u001b[1;33m=\u001b[0m \u001b[0msoup\u001b[0m\u001b[1;33m.\u001b[0m\u001b[0mselect\u001b[0m\u001b[1;33m(\u001b[0m\u001b[1;34m'div.sbbox'\u001b[0m\u001b[1;33m)\u001b[0m\u001b[1;33m.\u001b[0m\u001b[0mtext\u001b[0m\u001b[1;33m.\u001b[0m\u001b[0mstrip\u001b[0m\u001b[1;33m(\u001b[0m\u001b[1;33m)\u001b[0m\u001b[1;33m.\u001b[0m\u001b[0msplit\u001b[0m\u001b[1;33m(\u001b[0m\u001b[1;34m'\\n'\u001b[0m\u001b[1;33m)\u001b[0m\u001b[1;33m\u001b[0m\u001b[0m\n\u001b[0m\u001b[0;32m      4\u001b[0m \u001b[0mtext\u001b[0m\u001b[1;33m\u001b[0m\u001b[0m\n\u001b[0;32m      5\u001b[0m \u001b[0mprint\u001b[0m\u001b[1;33m(\u001b[0m\u001b[0mtexts\u001b[0m\u001b[1;33m)\u001b[0m\u001b[1;33m\u001b[0m\u001b[0m\n",
      "\u001b[1;31mAttributeError\u001b[0m: 'list' object has no attribute 'text'"
     ]
    }
   ],
   "source": [
    "html = req.text\n",
    "soup = BeautifulSoup(html, 'html.parser')\n",
    "text = soup.select('div.sbbox')[0].text.strip().split('\\n')\n",
    "text\n",
    "print(text)\n",
    "while True:\n",
    "    try:\n",
    "        text.remove(\"\")\n",
    "    except ValueError:\n",
    "        break\n",
    "        \n",
    "for idx in range(0,len(text)):\n",
    "    text[idx] = text[idx].strip()"
   ]
  },
  {
   "cell_type": "code",
   "execution_count": 31,
   "metadata": {},
   "outputs": [
    {
     "data": {
      "text/plain": [
       "['1+1', '푸르밀)초코바나나킥우유...', '', '1,500원']"
      ]
     },
     "execution_count": 31,
     "metadata": {},
     "output_type": "execute_result"
    }
   ],
   "source": [
    "ㅅㄷ"
   ]
  },
  {
   "cell_type": "code",
   "execution_count": 51,
   "metadata": {},
   "outputs": [
    {
     "data": {
      "text/plain": [
       "[['1+1', '푸르밀)초코바나나킥우유...', '1,500원'],\n",
       " ['1+1', '천지개벽)숙취해소음료', '5,000원'],\n",
       " ['1+1', 'CJ)맥스봉소시지150...', '2,700원'],\n",
       " ['1+1', '유어스)라들베르거레몬5...', '1,800원'],\n",
       " ['2+1', '오뚜기)컵피자콤비네이션', '3,800원'],\n",
       " ['2+1', '유어스)안녕자두야스파클...', '1,000원'],\n",
       " ['2+1', '농심)백산수2L', '1,700원'],\n",
       " ['2+1', '유어스)웅진팥차500M...', '1,500원'],\n",
       " ['덤증정', '유어스)맵칼어묵떡볶이2...', '2,800원'],\n",
       " ['덤증정', '오뚜기)불닭마요덮밥(컵...', '3,500원'],\n",
       " ['덤증정', '삼립)P.I.G오렌지사...', '2,900원'],\n",
       " ['덤증정', '일리윤)더마클렌징폼12...', '9,900원'],\n",
       " ['유어스(P)딸기뷔페빙수', '3,000원'],\n",
       " ['유어스)속풀어유230M...', '2,000원'],\n",
       " ['유어스)크런키민트바', '1,800원'],\n",
       " ['유어스(P)기장미역국밥...', '3,500원']]"
      ]
     },
     "execution_count": 51,
     "metadata": {},
     "output_type": "execute_result"
    }
   ],
   "source": [
    "texts = soup.select('div.sbbox')\n",
    "result = []\n",
    "for text in texts:\n",
    "    text= text.text.strip().split('\\n')\n",
    "    while True:\n",
    "        try:\n",
    "            text.remove(\"\")\n",
    "        except ValueError:\n",
    "            break\n",
    "\n",
    "    for idx in range(0,len(text)):\n",
    "        text[idx] = text[idx].strip()\n",
    "    \n",
    "    while True:\n",
    "        try:\n",
    "            text.remove(\"\")\n",
    "        except ValueError:\n",
    "            break\n",
    "    result.append(text)\n",
    "result"
   ]
  },
  {
   "cell_type": "code",
   "execution_count": 63,
   "metadata": {},
   "outputs": [
    {
     "data": {
      "text/plain": [
       "'1+1 푸르밀)초코바나나킥우유... 1,500원 '"
      ]
     },
     "execution_count": 63,
     "metadata": {},
     "output_type": "execute_result"
    }
   ],
   "source": [
    "data = ''\n",
    "for r in result[0]:\n",
    "    data += (r+\" \")\n",
    "data"
   ]
  },
  {
   "cell_type": "code",
   "execution_count": 65,
   "metadata": {},
   "outputs": [],
   "source": [
    "f = open(\"gs25.txt\",'a')\n",
    "for r in result:\n",
    "    data = ''\n",
    "    for re in r:\n",
    "        data += (re+\" \")\n",
    "    f.write(data+'\\n')\n",
    "f.close()"
   ]
  },
  {
   "cell_type": "code",
   "execution_count": 68,
   "metadata": {},
   "outputs": [
    {
     "data": {
      "text/plain": [
       "'1+1 푸르밀)초코바나나킥우유... 1,500원 \\n1+1 천지개벽)숙취해소음료 5,000원 \\n1+1 CJ)맥스봉소시지150... 2,700원 \\n1+1 유어스)라들베르거레몬5... 1,800원 \\n2+1 오뚜기)컵피자콤비네이션 3,800원 \\n2+1 유어스)안녕자두야스파클... 1,000원 \\n2+1 농심)백산수2L 1,700원 \\n2+1 유어스)웅진팥차500M... 1,500원 \\n덤증정 유어스)맵칼어묵떡볶이2... 2,800원 \\n덤증정 오뚜기)불닭마요덮밥(컵... 3,500원 \\n덤증정 삼립)P.I.G오렌지사... 2,900원 \\n덤증정 일리윤)더마클렌징폼12... 9,900원 \\n유어스(P)딸기뷔페빙수 3,000원 \\n유어스)속풀어유230M... 2,000원 \\n유어스)크런키민트바 1,800원 \\n유어스(P)기장미역국밥... 3,500원 \\n'"
      ]
     },
     "execution_count": 68,
     "metadata": {},
     "output_type": "execute_result"
    }
   ],
   "source": [
    "f = open(\"gs25.txt\",'r')\n",
    "f.read()"
   ]
  },
  {
   "cell_type": "code",
   "execution_count": 8,
   "metadata": {},
   "outputs": [
    {
     "name": "stdout",
     "output_type": "stream",
     "text": [
      "ssss\n"
     ]
    }
   ],
   "source": [
    "bot = telegram.Bot(token='657904429:AAHnMKzqt09Q1UTYW2TnFAeF_YMVS3wPvzw')\n",
    "print('ssss')\n",
    "chat_id = bot.getUpdates()[-1].message.chat.id"
   ]
  },
  {
   "cell_type": "code",
   "execution_count": 79,
   "metadata": {},
   "outputs": [
    {
     "ename": "KeyboardInterrupt",
     "evalue": "",
     "output_type": "error",
     "traceback": [
      "\u001b[1;31m---------------------------------------------------------------------------\u001b[0m",
      "\u001b[1;31mKeyboardInterrupt\u001b[0m                         Traceback (most recent call last)",
      "\u001b[1;32m<ipython-input-79-f663cd488f69>\u001b[0m in \u001b[0;36m<module>\u001b[1;34m()\u001b[0m\n\u001b[0;32m     28\u001b[0m \u001b[1;33m\u001b[0m\u001b[0m\n\u001b[0;32m     29\u001b[0m     \u001b[0mbot\u001b[0m\u001b[1;33m.\u001b[0m\u001b[0msendMessage\u001b[0m\u001b[1;33m(\u001b[0m\u001b[0mchat_id\u001b[0m\u001b[1;33m=\u001b[0m\u001b[0mchat_id\u001b[0m\u001b[1;33m,\u001b[0m \u001b[0mtext\u001b[0m\u001b[1;33m=\u001b[0m\u001b[1;34m'running...'\u001b[0m\u001b[1;33m)\u001b[0m\u001b[1;33m\u001b[0m\u001b[0m\n\u001b[1;32m---> 30\u001b[1;33m     \u001b[0mtime\u001b[0m\u001b[1;33m.\u001b[0m\u001b[0msleep\u001b[0m\u001b[1;33m(\u001b[0m\u001b[1;36m60\u001b[0m\u001b[1;33m)\u001b[0m\u001b[1;33m\u001b[0m\u001b[0m\n\u001b[0m",
      "\u001b[1;31mKeyboardInterrupt\u001b[0m: "
     ]
    }
   ],
   "source": [
    "while True:\n",
    "    req = requests.get('http://gs25.gsretail.com/gscvs/ko/main')\n",
    "    html = req.text\n",
    "    soup = BeautifulSoup(html, 'html.parser')\n",
    "    texts = soup.select('div.sbbox')\n",
    "    current = []\n",
    "    for text in texts:\n",
    "        text= text.text.strip().split('\\n')\n",
    "        while True:\n",
    "            try:\n",
    "                text.remove(\"\")\n",
    "            except ValueError:\n",
    "                break\n",
    "\n",
    "        for idx in range(0,len(text)):\n",
    "            text[idx] = text[idx].strip()\n",
    "\n",
    "        while True:\n",
    "            try:\n",
    "                text.remove(\"\")\n",
    "            except ValueError:\n",
    "                break\n",
    "        current.append(text)\n",
    "        \n",
    "        for idx in range(0, len(current)):\n",
    "            if current[idx] != result[idx]:\n",
    "                bot.sendMessage(chat_id=chat_id, text=current[idx])\n",
    "        \n",
    "    bot.sendMessage(chat_id=chat_id, text='running...')        \n",
    "    time.sleep(60)"
   ]
  },
  {
   "cell_type": "code",
   "execution_count": 8,
   "metadata": {},
   "outputs": [],
   "source": [
    "req = requests.get('https://www.naver.com/')\n",
    "html = req.text\n",
    "soup = BeautifulSoup(html, 'html.parser')\n",
    "texts = soup.select('span.ah_k')\n",
    "texts = [i.text for i in texts[:20]]"
   ]
  },
  {
   "cell_type": "code",
   "execution_count": 10,
   "metadata": {},
   "outputs": [],
   "source": [
    "f = open('latest.txt','w')\n",
    "for text in texts:\n",
    "    f.write(text+'\\n')\n",
    "f.close()"
   ]
  },
  {
   "cell_type": "code",
   "execution_count": 33,
   "metadata": {},
   "outputs": [
    {
     "name": "stdout",
     "output_type": "stream",
     "text": [
      "*\n",
      "*\n",
      "21\n",
      "['sk건설', '라오스', '유채영', '라오스 댐 붕괴', 'sk', '라오스 댐', 'sk건설 라오스', '유채영사망', '한전 전기요금 조회', '민갑룡', 'LG생활건강', '신과함께 2', '2018 프로야구 중계', '김부각', '전기요금 계산기', '유채영남편', '시타오 미우', 'kbo', '50만달러', '한국전력공사']\n",
      "\n",
      "['sk건설', '라오스', '유채영', '라오스 댐 붕괴', 'sk', '라오스 댐', 'sk건설 라오스', '유채영사망', '한전 전기요금 조회', '민갑룡', 'LG생활건강', '신과함께 2', '2018 프로야구 중계', '김부각', '전기요금 계산기', '유채영남편', '시타오 미우', 'kbo', '50만달러', '한국전력공사', '']\n",
      "\n",
      "[]\n"
     ]
    }
   ],
   "source": [
    "import requests\n",
    "from bs4 import BeautifulSoup\n",
    "import os\n",
    "import telegram\n",
    "import time\n",
    "import json\n",
    "req = requests.get('http://naver.com/',timeout = 1000)\n",
    "html = req.text\n",
    "soup = BeautifulSoup(html, 'html.parser')\n",
    "texts = soup.select('span.ah_k')\n",
    "print('*')\n",
    "bot = telegram.Bot(token = '657904429:AAHnMKzqt09Q1UTYW2TnFAeF_YMVS3wPvzw')\n",
    "chat_id = bot.getUpdates()[-1].message.chat.id\n",
    "print('*')\n",
    "before = []\n",
    "f= open('latest.txt','r')\n",
    "while True:\n",
    "        data = f.readline().strip()\n",
    "        before.append(data)\n",
    "        if not data:\n",
    "            break\n",
    "f.close()\n",
    "print(len(before))\n",
    "texts = [i.text for i in texts[0:20]]\n",
    "print(texts)\n",
    "print()\n",
    "print(before)\n",
    "print()\n",
    "print((list(set(texts).difference(set(before)))))\n",
    "\n",
    "#for text in list(set(texts) - set(before)):\n",
    "#        bot.sendMessage(chat_id = chat_id , text = text + '\\n' + 'https://search.naver.com/search.naver?where=nexearch&sm=top_hty&fbm=0&ie=utf8&query={}'.format(text))\n",
    "\n",
    "f = open('latest.txt','w')\n",
    "for text in texts:\n",
    "        f.write(text+'\\n')\n",
    "f.close()"
   ]
  },
  {
   "cell_type": "code",
   "execution_count": null,
   "metadata": {},
   "outputs": [],
   "source": []
  }
 ],
 "metadata": {
  "kernelspec": {
   "display_name": "Python 3",
   "language": "python",
   "name": "python3"
  },
  "language_info": {
   "codemirror_mode": {
    "name": "ipython",
    "version": 3
   },
   "file_extension": ".py",
   "mimetype": "text/x-python",
   "name": "python",
   "nbconvert_exporter": "python",
   "pygments_lexer": "ipython3",
   "version": "3.6.5"
  }
 },
 "nbformat": 4,
 "nbformat_minor": 2
}
